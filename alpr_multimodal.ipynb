{
 "cells": [
  {
   "cell_type": "markdown",
   "metadata": {},
   "source": [
    "# ALPR++"
   ]
  },
  {
   "cell_type": "code",
   "execution_count": 58,
   "metadata": {},
   "outputs": [
    {
     "data": {
      "text/plain": [
       "True"
      ]
     },
     "execution_count": 58,
     "metadata": {},
     "output_type": "execute_result"
    }
   ],
   "source": [
    "from typing import Any\n",
    "import os\n",
    "import glob\n",
    "import json\n",
    "import matplotlib.pyplot as plt\n",
    "import matplotlib.image as mpimg\n",
    "import base64\n",
    "from IPython.display import Image, display, HTML\n",
    "import pandas as pd\n",
    "from langchain_core.pydantic_v1 import BaseModel, Field\n",
    "from langchain_core.messages import HumanMessage, SystemMessage\n",
    "from langchain_openai import ChatOpenAI\n",
    "from langchain_core.output_parsers import JsonOutputParser\n",
    "from langchain_core.exceptions import OutputParserException\n",
    "from langchain_core.runnables import chain\n",
    "from dotenv import load_dotenv\n",
    "\n",
    "load_dotenv()"
   ]
  },
  {
   "cell_type": "code",
   "execution_count": 40,
   "metadata": {},
   "outputs": [],
   "source": [
    "def image_encoding(inputs):\n",
    "    with open(inputs[\"image_path\"], \"rb\") as image_file:\n",
    "        image_base64 = base64.b64encode(image_file.read()).decode(\"utf-8\")\n",
    "    return {\"image\": image_base64}"
   ]
  },
  {
   "cell_type": "code",
   "execution_count": 41,
   "metadata": {},
   "outputs": [],
   "source": [
    "class Vehicle(BaseModel):\n",
    "    type: str = Field(..., examples=[\"Car\", \"Truck\", \"Motorcycle\", \"Bus\"], description=\"Return the type of the vehicle\")\n",
    "    license_plate: str = Field(..., description=\"Return the license plate number of the vehicle\")\n",
    "    make: str = Field(..., examples=[\"Toyota\", \"Honda\", \"Ford\", \"Suzuki\"], description=\"Return the Make of the vehicle\")\n",
    "    model: str = Field(..., examples=[\"Corolla\", \"Civic\", \"F-150\"], description=\"Return the model of the vehicle\")\n",
    "    color: str = Field(..., examples=[\"Red\", \"Blue\", \"Black\", \"White\"], description=\"Return the color of the vehicle\")"
   ]
  },
  {
   "cell_type": "code",
   "execution_count": 59,
   "metadata": {},
   "outputs": [
    {
     "data": {
      "text/plain": [
       "'The output should be formatted as a JSON instance that conforms to the JSON schema below.\\n\\nAs an example, for the schema {\"properties\": {\"foo\": {\"title\": \"Foo\", \"description\": \"a list of strings\", \"type\": \"array\", \"items\": {\"type\": \"string\"}}}, \"required\": [\"foo\"]}\\nthe object {\"foo\": [\"bar\", \"baz\"]} is a well-formatted instance of the schema. The object {\"properties\": {\"foo\": [\"bar\", \"baz\"]}} is not well-formatted.\\n\\nHere is the output schema:\\n```\\n{\"properties\": {\"type\": {\"title\": \"Type\", \"description\": \"Return the type of the vehicle\", \"examples\": [\"Car\", \"Truck\", \"Motorcycle\", \"Bus\"], \"type\": \"string\"}, \"license_plate\": {\"title\": \"License Plate\", \"description\": \"Return the license plate number of the vehicle\", \"type\": \"string\"}, \"make\": {\"title\": \"Make\", \"description\": \"Return the Make of the vehicle\", \"examples\": [\"Toyota\", \"Honda\", \"Ford\", \"Suzuki\"], \"type\": \"string\"}, \"model\": {\"title\": \"Model\", \"description\": \"Return the model of the vehicle\", \"examples\": [\"Corolla\", \"Civic\", \"F-150\"], \"type\": \"string\"}, \"color\": {\"title\": \"Color\", \"description\": \"Return the color of the vehicle\", \"examples\": [\"Red\", \"Blue\", \"Black\", \"White\"], \"type\": \"string\"}}, \"required\": [\"type\", \"license_plate\", \"make\", \"model\", \"color\"]}\\n```'"
      ]
     },
     "execution_count": 59,
     "metadata": {},
     "output_type": "execute_result"
    }
   ],
   "source": [
    "parser = JsonOutputParser(pydantic_object = Vehicle)\n",
    "instructions = parser.get_format_instructions()\n",
    "instructions"
   ]
  },
  {
   "cell_type": "code",
   "execution_count": 60,
   "metadata": {},
   "outputs": [],
   "source": [
    "@chain\n",
    "def prompt(inputs):\n",
    "    prompt = [\n",
    "    SystemMessage(content=\"\"\"You are an AI assistant whose job is to inspect an image and provide the desired information from the image. If the desired field is not clear or not well detected, return None for this field. Do not try to guess.\"\"\"),\n",
    "    HumanMessage(\n",
    "        content=[\n",
    "            {\"type\": \"text\", \"text\": \"\"\"Examine the main vehicle type, license plate number, make, model and color.\"\"\"},\n",
    "            {\"type\": \"text\", \"text\": instructions},\n",
    "            {\"type\": \"image_url\", \"image_url\": {\"url\": f\"data:image/jpeg;base64,{inputs['image']}\", \"detail\": \"low\", }}]\n",
    "        )\n",
    "    ]\n",
    "    return prompt"
   ]
  },
  {
   "cell_type": "code",
   "execution_count": 61,
   "metadata": {},
   "outputs": [],
   "source": [
    "@chain\n",
    "def generate(inputs):\n",
    "    model: ChatOpenAI = ChatOpenAI(\n",
    "        model=\"gpt-4o\",\n",
    "        temperature=0.0,\n",
    "        max_tokens=512,\n",
    "    )\n",
    "    output = model.invoke(inputs)\n",
    "    return output.content"
   ]
  },
  {
   "cell_type": "code",
   "execution_count": 62,
   "metadata": {},
   "outputs": [],
   "source": [
    "pipeline = image_encoding | prompt | generate | parser"
   ]
  },
  {
   "cell_type": "code",
   "execution_count": 63,
   "metadata": {},
   "outputs": [
    {
     "data": {
      "text/plain": [
       "RunnableLambda(image_encoding)\n",
       "| RunnableLambda(prompt)\n",
       "| RunnableLambda(generate)\n",
       "| JsonOutputParser(pydantic_object=<class '__main__.Vehicle'>)"
      ]
     },
     "execution_count": 63,
     "metadata": {},
     "output_type": "execute_result"
    }
   ],
   "source": [
    "pipeline"
   ]
  },
  {
   "cell_type": "code",
   "execution_count": 64,
   "metadata": {},
   "outputs": [],
   "source": [
    "img_path = \"image.jpeg\""
   ]
  },
  {
   "cell_type": "code",
   "execution_count": 65,
   "metadata": {},
   "outputs": [
    {
     "data": {
      "image/jpeg": "[encoded data removed]",
      "text/plain": [
       "<IPython.core.display.Image object>"
      ]
     },
     "metadata": {},
     "output_type": "display_data"
    }
   ],
   "source": [
    "display(Image(img_path))"
   ]
  },
  {
   "cell_type": "code",
   "execution_count": 66,
   "metadata": {},
   "outputs": [
    {
     "data": {
      "text/plain": [
       "{'type': 'Car',\n",
       " 'license_plate': 'B 188 BA',\n",
       " 'make': 'BMW',\n",
       " 'model': '3 Series',\n",
       " 'color': 'White'}"
      ]
     },
     "execution_count": 66,
     "metadata": {},
     "output_type": "execute_result"
    }
   ],
   "source": [
    "output = pipeline.invoke({\"image_path\": f\"{img_path}\"})\n",
    "output"
   ]
  },
  {
   "cell_type": "code",
   "execution_count": null,
   "metadata": {},
   "outputs": [],
   "source": []
  }
 ],
 "metadata": {
  "kernelspec": {
   "display_name": "Python 3 (ipykernel)",
   "language": "python",
   "name": "python3"
  },
  "language_info": {
   "codemirror_mode": {
    "name": "ipython",
    "version": 3
   },
   "file_extension": ".py",
   "mimetype": "text/x-python",
   "name": "python",
   "nbconvert_exporter": "python",
   "pygments_lexer": "ipython3",
   "version": "3.10.15"
  }
 },
 "nbformat": 4,
 "nbformat_minor": 4
}
